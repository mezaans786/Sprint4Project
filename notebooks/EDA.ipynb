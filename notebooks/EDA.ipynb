{
 "cells": [
  {
   "cell_type": "markdown",
   "metadata": {},
   "source": [
    "Panic Attack Dataset\n",
    "\n",
    "This dataset is designed to help analyze panic attacks by exploring potential triggers, symptoms, and associated lifestyle factors. It includes details such as age, gender, panic attack frequency, duration, heart rate, sweating, chest pain, trembling, medical history, medication use, caffeine intake, exercise frequency, sleep patterns, alcohol consumption, smoking habits, therapy participation, and panic severity scores."
   ]
  },
  {
   "cell_type": "markdown",
   "metadata": {},
   "source": [
    "Although this dataset has many factors, I plan to examine the most common triggers for panic attacks and identify which gender in each age group is most affected by them."
   ]
  },
  {
   "cell_type": "code",
   "execution_count": 4,
   "metadata": {},
   "outputs": [
    {
     "name": "stdout",
     "output_type": "stream",
     "text": [
      "<class 'pandas.core.frame.DataFrame'>\n",
      "RangeIndex: 1200 entries, 0 to 1199\n",
      "Data columns (total 21 columns):\n",
      " #   Column                  Non-Null Count  Dtype  \n",
      "---  ------                  --------------  -----  \n",
      " 0   ID                      1200 non-null   int64  \n",
      " 1   Age                     1200 non-null   int64  \n",
      " 2   Gender                  1200 non-null   object \n",
      " 3   Panic_Attack_Frequency  1200 non-null   int64  \n",
      " 4   Duration_Minutes        1200 non-null   int64  \n",
      " 5   Trigger                 1200 non-null   object \n",
      " 6   Heart_Rate              1200 non-null   int64  \n",
      " 7   Sweating                1200 non-null   object \n",
      " 8   Shortness_of_Breath     1200 non-null   object \n",
      " 9   Dizziness               1200 non-null   object \n",
      " 10  Chest_Pain              1200 non-null   object \n",
      " 11  Trembling               1200 non-null   object \n",
      " 12  Medical_History         1078 non-null   object \n",
      " 13  Medication              1200 non-null   object \n",
      " 14  Caffeine_Intake         1200 non-null   int64  \n",
      " 15  Exercise_Frequency      1200 non-null   int64  \n",
      " 16  Sleep_Hours             1200 non-null   float64\n",
      " 17  Alcohol_Consumption     1200 non-null   int64  \n",
      " 18  Smoking                 1200 non-null   object \n",
      " 19  Therapy                 1200 non-null   object \n",
      " 20  Panic_Score             1200 non-null   int64  \n",
      "dtypes: float64(1), int64(9), object(11)\n",
      "memory usage: 197.0+ KB\n"
     ]
    },
    {
     "data": {
      "text/html": [
       "<div>\n",
       "<style scoped>\n",
       "    .dataframe tbody tr th:only-of-type {\n",
       "        vertical-align: middle;\n",
       "    }\n",
       "\n",
       "    .dataframe tbody tr th {\n",
       "        vertical-align: top;\n",
       "    }\n",
       "\n",
       "    .dataframe thead th {\n",
       "        text-align: right;\n",
       "    }\n",
       "</style>\n",
       "<table border=\"1\" class=\"dataframe\">\n",
       "  <thead>\n",
       "    <tr style=\"text-align: right;\">\n",
       "      <th></th>\n",
       "      <th>ID</th>\n",
       "      <th>Age</th>\n",
       "      <th>Gender</th>\n",
       "      <th>Panic_Attack_Frequency</th>\n",
       "      <th>Duration_Minutes</th>\n",
       "      <th>Trigger</th>\n",
       "      <th>Heart_Rate</th>\n",
       "      <th>Sweating</th>\n",
       "      <th>Shortness_of_Breath</th>\n",
       "      <th>Dizziness</th>\n",
       "      <th>...</th>\n",
       "      <th>Trembling</th>\n",
       "      <th>Medical_History</th>\n",
       "      <th>Medication</th>\n",
       "      <th>Caffeine_Intake</th>\n",
       "      <th>Exercise_Frequency</th>\n",
       "      <th>Sleep_Hours</th>\n",
       "      <th>Alcohol_Consumption</th>\n",
       "      <th>Smoking</th>\n",
       "      <th>Therapy</th>\n",
       "      <th>Panic_Score</th>\n",
       "    </tr>\n",
       "  </thead>\n",
       "  <tbody>\n",
       "    <tr>\n",
       "      <th>0</th>\n",
       "      <td>1</td>\n",
       "      <td>56</td>\n",
       "      <td>Female</td>\n",
       "      <td>9</td>\n",
       "      <td>5</td>\n",
       "      <td>Caffeine</td>\n",
       "      <td>134</td>\n",
       "      <td>Yes</td>\n",
       "      <td>No</td>\n",
       "      <td>Yes</td>\n",
       "      <td>...</td>\n",
       "      <td>No</td>\n",
       "      <td>Anxiety</td>\n",
       "      <td>No</td>\n",
       "      <td>2</td>\n",
       "      <td>3</td>\n",
       "      <td>6.4</td>\n",
       "      <td>5</td>\n",
       "      <td>Yes</td>\n",
       "      <td>Yes</td>\n",
       "      <td>5</td>\n",
       "    </tr>\n",
       "    <tr>\n",
       "      <th>1</th>\n",
       "      <td>2</td>\n",
       "      <td>46</td>\n",
       "      <td>Male</td>\n",
       "      <td>8</td>\n",
       "      <td>9</td>\n",
       "      <td>Stress</td>\n",
       "      <td>139</td>\n",
       "      <td>Yes</td>\n",
       "      <td>Yes</td>\n",
       "      <td>No</td>\n",
       "      <td>...</td>\n",
       "      <td>No</td>\n",
       "      <td>PTSD</td>\n",
       "      <td>Yes</td>\n",
       "      <td>2</td>\n",
       "      <td>5</td>\n",
       "      <td>5.0</td>\n",
       "      <td>3</td>\n",
       "      <td>No</td>\n",
       "      <td>Yes</td>\n",
       "      <td>7</td>\n",
       "    </tr>\n",
       "    <tr>\n",
       "      <th>2</th>\n",
       "      <td>3</td>\n",
       "      <td>32</td>\n",
       "      <td>Female</td>\n",
       "      <td>6</td>\n",
       "      <td>31</td>\n",
       "      <td>PTSD</td>\n",
       "      <td>141</td>\n",
       "      <td>No</td>\n",
       "      <td>Yes</td>\n",
       "      <td>Yes</td>\n",
       "      <td>...</td>\n",
       "      <td>No</td>\n",
       "      <td>Depression</td>\n",
       "      <td>No</td>\n",
       "      <td>4</td>\n",
       "      <td>0</td>\n",
       "      <td>8.3</td>\n",
       "      <td>8</td>\n",
       "      <td>No</td>\n",
       "      <td>Yes</td>\n",
       "      <td>7</td>\n",
       "    </tr>\n",
       "    <tr>\n",
       "      <th>3</th>\n",
       "      <td>4</td>\n",
       "      <td>60</td>\n",
       "      <td>Male</td>\n",
       "      <td>5</td>\n",
       "      <td>20</td>\n",
       "      <td>Caffeine</td>\n",
       "      <td>109</td>\n",
       "      <td>Yes</td>\n",
       "      <td>Yes</td>\n",
       "      <td>No</td>\n",
       "      <td>...</td>\n",
       "      <td>Yes</td>\n",
       "      <td>Depression</td>\n",
       "      <td>No</td>\n",
       "      <td>3</td>\n",
       "      <td>3</td>\n",
       "      <td>5.3</td>\n",
       "      <td>8</td>\n",
       "      <td>No</td>\n",
       "      <td>No</td>\n",
       "      <td>1</td>\n",
       "    </tr>\n",
       "    <tr>\n",
       "      <th>4</th>\n",
       "      <td>5</td>\n",
       "      <td>25</td>\n",
       "      <td>Non-binary</td>\n",
       "      <td>6</td>\n",
       "      <td>10</td>\n",
       "      <td>Caffeine</td>\n",
       "      <td>101</td>\n",
       "      <td>Yes</td>\n",
       "      <td>No</td>\n",
       "      <td>Yes</td>\n",
       "      <td>...</td>\n",
       "      <td>Yes</td>\n",
       "      <td>Depression</td>\n",
       "      <td>No</td>\n",
       "      <td>3</td>\n",
       "      <td>6</td>\n",
       "      <td>7.2</td>\n",
       "      <td>2</td>\n",
       "      <td>No</td>\n",
       "      <td>No</td>\n",
       "      <td>5</td>\n",
       "    </tr>\n",
       "  </tbody>\n",
       "</table>\n",
       "<p>5 rows × 21 columns</p>\n",
       "</div>"
      ],
      "text/plain": [
       "   ID  Age      Gender  Panic_Attack_Frequency  Duration_Minutes   Trigger  \\\n",
       "0   1   56      Female                       9                 5  Caffeine   \n",
       "1   2   46        Male                       8                 9    Stress   \n",
       "2   3   32      Female                       6                31      PTSD   \n",
       "3   4   60        Male                       5                20  Caffeine   \n",
       "4   5   25  Non-binary                       6                10  Caffeine   \n",
       "\n",
       "   Heart_Rate Sweating Shortness_of_Breath Dizziness  ... Trembling  \\\n",
       "0         134      Yes                  No       Yes  ...        No   \n",
       "1         139      Yes                 Yes        No  ...        No   \n",
       "2         141       No                 Yes       Yes  ...        No   \n",
       "3         109      Yes                 Yes        No  ...       Yes   \n",
       "4         101      Yes                  No       Yes  ...       Yes   \n",
       "\n",
       "  Medical_History Medication Caffeine_Intake  Exercise_Frequency  Sleep_Hours  \\\n",
       "0         Anxiety         No               2                   3          6.4   \n",
       "1            PTSD        Yes               2                   5          5.0   \n",
       "2      Depression         No               4                   0          8.3   \n",
       "3      Depression         No               3                   3          5.3   \n",
       "4      Depression         No               3                   6          7.2   \n",
       "\n",
       "   Alcohol_Consumption  Smoking Therapy Panic_Score  \n",
       "0                    5      Yes     Yes           5  \n",
       "1                    3       No     Yes           7  \n",
       "2                    8       No     Yes           7  \n",
       "3                    8       No      No           1  \n",
       "4                    2       No      No           5  \n",
       "\n",
       "[5 rows x 21 columns]"
      ]
     },
     "execution_count": 4,
     "metadata": {},
     "output_type": "execute_result"
    }
   ],
   "source": [
    "import pandas as pd\n",
    "import numpy as np\n",
    "from matplotlib import pyplot as plt\n",
    "import seaborn as sns\n",
    "\n",
    "panic_attack_df = pd.read_csv('panic_attack_dataset.csv')\n",
    "\n",
    "panic_attack_df.info()\n",
    "\n",
    "panic_attack_df.describe()\n",
    "\n",
    "panic_attack_df.head(5)\n",
    "#There is not much data that needs to be cleaned here. The only portion that would need cleaning is the 'Medical History' \n",
    "#column, but since I will not be analyzing this portion I will leave it as is.  "
   ]
  },
  {
   "cell_type": "code",
   "execution_count": 5,
   "metadata": {},
   "outputs": [
    {
     "data": {
      "text/plain": [
       "ID                          0\n",
       "Age                         0\n",
       "Gender                      0\n",
       "Panic_Attack_Frequency      0\n",
       "Duration_Minutes            0\n",
       "Trigger                     0\n",
       "Heart_Rate                  0\n",
       "Sweating                    0\n",
       "Shortness_of_Breath         0\n",
       "Dizziness                   0\n",
       "Chest_Pain                  0\n",
       "Trembling                   0\n",
       "Medical_History           122\n",
       "Medication                  0\n",
       "Caffeine_Intake             0\n",
       "Exercise_Frequency          0\n",
       "Sleep_Hours                 0\n",
       "Alcohol_Consumption         0\n",
       "Smoking                     0\n",
       "Therapy                     0\n",
       "Panic_Score                 0\n",
       "dtype: int64"
      ]
     },
     "execution_count": 5,
     "metadata": {},
     "output_type": "execute_result"
    }
   ],
   "source": [
    "#Exploring Missing Values \n",
    "\n",
    "panic_attack_df.isna().sum()"
   ]
  },
  {
   "cell_type": "markdown",
   "metadata": {},
   "source": [
    "By analyzing the missing values, I found that the 'Medical History' column is the only one with missing data in the dataset. This column represents patients' past history of mental illnesses. The missing values may be due to patients not having consulted a therapist or psychiatrist, resulting in a lack of documented proof of a mental illness."
   ]
  },
  {
   "cell_type": "code",
   "execution_count": 6,
   "metadata": {},
   "outputs": [
    {
     "data": {
      "text/plain": [
       "ID                          int64\n",
       "Age                         int64\n",
       "Gender                     object\n",
       "Panic_Attack_Frequency      int64\n",
       "Duration_Minutes            int64\n",
       "Trigger                    object\n",
       "Heart_Rate                  int64\n",
       "Sweating                   object\n",
       "Shortness_of_Breath        object\n",
       "Dizziness                  object\n",
       "Chest_Pain                 object\n",
       "Trembling                  object\n",
       "Medical_History            object\n",
       "Medication                 object\n",
       "Caffeine_Intake             int64\n",
       "Exercise_Frequency          int64\n",
       "Sleep_Hours               float64\n",
       "Alcohol_Consumption         int64\n",
       "Smoking                    object\n",
       "Therapy                    object\n",
       "Panic_Score                 int64\n",
       "dtype: object"
      ]
     },
     "execution_count": 6,
     "metadata": {},
     "output_type": "execute_result"
    }
   ],
   "source": [
    "panic_attack_df.dtypes"
   ]
  },
  {
   "cell_type": "code",
   "execution_count": 7,
   "metadata": {},
   "outputs": [
    {
     "data": {
      "image/png": "[encoded data removed]",
      "text/plain": [
       "<Figure size 640x480 with 1 Axes>"
      ]
     },
     "metadata": {},
     "output_type": "display_data"
    }
   ],
   "source": [
    "# Plot Panic Attack triggers \n",
    "trigger_counts = panic_attack_df['Trigger'].value_counts()\n",
    "\n",
    "sns.barplot(x = trigger_counts.index, y = trigger_counts.values)\n",
    "plt.title(\"Panic Attack Triggers Frequency\")\n",
    "plt.xlabel(\"Triggers\")\n",
    "plt.ylabel(\"Frequency\")\n",
    "plt.show()"
   ]
  },
  {
   "cell_type": "code",
   "execution_count": 8,
   "metadata": {},
   "outputs": [
    {
     "data": {
      "image/png": "[encoded data removed]",
      "text/plain": [
       "<Figure size 2000x1200 with 1 Axes>"
      ]
     },
     "metadata": {},
     "output_type": "display_data"
    }
   ],
   "source": [
    "#Comparison of Frequency of Panic Attacks with gender and age groups\n",
    "bin1=[10,20,30,40,50,60,70]\n",
    "label1=['10-20','21-30','31-40','41-50','51-60','60+']\n",
    "panic_attack_df['Age_Group'] = pd.cut(x = panic_attack_df['Age'], bins = bin1,labels = label1)\n",
    "\n",
    "plt.figure(figsize=(20, 12))\n",
    "sns.barplot(data=panic_attack_df, x='Age_Group',y='Panic_Attack_Frequency',hue='Gender')\n",
    "plt.title(\"Effect of Age on Panic Attack Frequency for each Gender\")\n",
    "plt.xlabel('Age Group', fontsize=12)\n",
    "plt.ylabel('Panic Attack Duration', fontsize=12)\n",
    "plt.show()"
   ]
  }
 ],
 "metadata": {
  "kernelspec": {
   "display_name": "base",
   "language": "python",
   "name": "python3"
  },
  "language_info": {
   "codemirror_mode": {
    "name": "ipython",
    "version": 3
   },
   "file_extension": ".py",
   "mimetype": "text/x-python",
   "name": "python",
   "nbconvert_exporter": "python",
   "pygments_lexer": "ipython3",
   "version": "3.12.7"
  }
 },
 "nbformat": 4,
 "nbformat_minor": 2
}
